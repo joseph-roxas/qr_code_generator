import qrcode

# Data you want to encode
data = "https://forms.gle/bWGoQZe6ZMXmFQ4r6"

# Create QR code
qr = qrcode.QRCode(
    version=1,  # controls size (1 = smallest, 40 = largest)
    error_correction=qrcode.constants.ERROR_CORRECT_L,  # error correction
    box_size=20,  # pixel size of each box
    border=2,  # thickness of the border
)
qr.add_data(data)
qr.make(fit=True)

# Generate image
img = qr.make_image(fill_color="black", back_color="white")

# Save to file
img.save("qrcode.png")
